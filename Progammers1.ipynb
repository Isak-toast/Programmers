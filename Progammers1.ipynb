{
  "nbformat": 4,
  "nbformat_minor": 0,
  "metadata": {
    "colab": {
      "name": "Progammers1",
      "provenance": [],
      "collapsed_sections": [],
      "authorship_tag": "ABX9TyNn91jbGF/R8ekquGIN8PL9",
      "include_colab_link": true
    },
    "kernelspec": {
      "name": "python3",
      "display_name": "Python 3"
    }
  },
  "cells": [
    {
      "cell_type": "markdown",
      "metadata": {
        "id": "view-in-github",
        "colab_type": "text"
      },
      "source": [
        "<a href=\"https://colab.research.google.com/github/Isak-toast/Programmers/blob/master/Progammers1.ipynb\" target=\"_parent\"><img src=\"https://colab.research.google.com/assets/colab-badge.svg\" alt=\"Open In Colab\"/></a>"
      ]
    },
    {
      "cell_type": "markdown",
      "metadata": {
        "id": "FADZwefvAbPk",
        "colab_type": "text"
      },
      "source": [
        "#**크레인 인형뽑기 게임**\n"
      ]
    },
    {
      "cell_type": "markdown",
      "metadata": {
        "id": "bzLnSURgAviY",
        "colab_type": "text"
      },
      "source": [
        "[제한사항]\n",
        "board 배열은 2차원 배열로 크기는 5 x 5 이상 30 x 30 이하입니다.\n",
        "board의 각 칸에는 0 이상 100 이하인 정수가 담겨있습니다.\n",
        "0은 빈 칸을 나타냅니다.\n",
        "1 ~ 100의 각 숫자는 각기 다른 인형의 모양을 의미하며 같은 숫자는 같은 모양의 인형을 나타냅니다.\n",
        "moves 배열의 크기는 1 이상 1,000 이하입니다.\n",
        "moves 배열 각 원소들의 값은 1 이상이며 board 배열의 가로 크기 이하인 자연수입니다."
      ]
    },
    {
      "cell_type": "code",
      "metadata": {
        "id": "tezKE6qOBAiX",
        "colab_type": "code",
        "colab": {}
      },
      "source": [
        "def solution(board, moves):\n",
        "    stacklist = []\n",
        "    answer = 0\n",
        "\n",
        "    for i in moves:\n",
        "        for j in range(len(board)):\n",
        "            if board[j][i-1] != 0:\n",
        "                stacklist.append(board[j][i-1])\n",
        "                board[j][i-1] = 0\n",
        "\n",
        "                if len(stacklist) > 1:\n",
        "                    if stacklist[-1] == stacklist[-2]:\n",
        "                        stacklist.pop(-1)\n",
        "                        stacklist.pop(-1)\n",
        "                        answer += 2     \n",
        "                break\n",
        "\n",
        "    return answer\n",
        "    "
      ],
      "execution_count": 0,
      "outputs": []
    },
    {
      "cell_type": "code",
      "metadata": {
        "id": "w3svr9AvBhWY",
        "colab_type": "code",
        "outputId": "87e0362f-c279-427c-fcdc-09956a98cb73",
        "colab": {
          "base_uri": "https://localhost:8080/",
          "height": 35
        }
      },
      "source": [
        "board = [[0, 0, 0, 0, 0], [0, 0, 1, 0, 3], [0, 2, 5, 0, 1], [4, 2, 4, 4, 2], [3, 5, 1, 3, 1]]\n",
        "moves = [1, 5, 3, 5, 1, 2, 1, 4]\n",
        "\n",
        "solution(board, moves)"
      ],
      "execution_count": 0,
      "outputs": [
        {
          "output_type": "execute_result",
          "data": {
            "text/plain": [
              "4"
            ]
          },
          "metadata": {
            "tags": []
          },
          "execution_count": 10
        }
      ]
    }
  ]
}